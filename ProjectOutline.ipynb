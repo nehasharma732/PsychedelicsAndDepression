{
 "cells": [
  {
   "cell_type": "markdown",
   "metadata": {},
   "source": [
    "# COGS 108 - Final Project Outline"
   ]
  },
  {
   "cell_type": "markdown",
   "metadata": {},
   "source": [
    "# Names\n",
    "\n",
    "- Neha Sharma\n",
    "- Vartan Pashayan\n",
    "- Alexander Levine\n",
    "- Sohaib Khan\n",
    "- Sneha Sairam"
   ]
  },
  {
   "cell_type": "markdown",
   "metadata": {},
   "source": [
    "# Research Question"
   ]
  },
  {
   "cell_type": "markdown",
   "metadata": {},
   "source": [
    "Does the use of psychedelic mushrooms decrease or increase the occurrence of depression among adults with depression? In addition, what variables in publicly accessible datasets can be used to investigate this question?\n",
    "\n"
   ]
  },
  {
   "cell_type": "markdown",
   "metadata": {},
   "source": [
    "# Background and Prior Work"
   ]
  },
  {
   "cell_type": "markdown",
   "metadata": {},
   "source": [
    "Our topic discusses the use of psychedelic mushrooms to prevent depressive-like symptoms in people with depression or anxiety. Psilocybin is a naturally occurring compound found in psychedelic mushrooms, the past few years have shown that there is a growing interest in using this drug as a potential treatment for depression. And because of this there have been many articles and medical studies trying to figure out if this treatment can be a viable option for people dealing with depression.\n",
    "\n",
    "In a 2020 John Hopkins study,  researchers conducted multiple studies that psilocybin could improve various mental health conditions including depression. Preliminary data suggest that psilocybin-assisted treatment produces substantial and rapid antidepressant effects in patients with major depressive disorder, but little is known about long-term outcomes.  Another study done by the British association of Psychopharmacology  shows that the effects of Psilocybin use can reduce anxiety and depression in cancer patients. It is worth noting that this article talks about giving Psilocybin to patients with cancer who experienced depression-like symptoms and not people with major depressive disorder.\n",
    "\n",
    "Gukasyan N, Davis AK, Barrett FS, et al. Efficacy and safety of psilocybin-assisted treatment for major depressive disorder: Prospective 12-month follow-up. Journal of Psychopharmacology. 2022;36(2):151-158. doi:10.1177/02698811211073759\n",
    "\n",
    "https://www.hopkinsmedicine.org/news/newsroom/news-releases/psychedelic-treatment-with-psilocybin-relieves-major-depression-study-shows \n",
    "\n",
    "Griffiths RR, Johnson MW, Carducci MA, et al. Psilocybin produces substantial and sustained decreases in depression and anxiety in patients with life-threatening cancer: A randomizeddouble-blind trial. Journal of Psychopharmacology. 2016;30(12):1181-1197. doi:10.1177/0269881116675513\n",
    "\n",
    "https://journals.sagepub.com/doi/full/10.1177/0269881116675513\n"
   ]
  },
  {
   "cell_type": "markdown",
   "metadata": {},
   "source": [
    "# Hypothesis\n"
   ]
  },
  {
   "cell_type": "markdown",
   "metadata": {},
   "source": [
    "Hypothesis: The use of Psychedelic Mushrooms decreases the occurrence of depression among adults.\n",
    "\n",
    "Null Hypothesis: The use of Psychedelic Mushrooms does not decrease the occurrence of depression among adults."
   ]
  },
  {
   "cell_type": "markdown",
   "metadata": {},
   "source": [
    "# Data"
   ]
  },
  {
   "cell_type": "markdown",
   "metadata": {},
   "source": [
    "For this research project, an ideal data set would essentially be a large data set in order to explore the effects of psychedelic mushrooms on mental health. A good quality data set would entail personal details about each participant like age, gender, education level, ethnicity, socioeconomic background, health history, etc as these can all impact drug use and mental health impacts. It is also important to collect data on the use of psychedelic mushrooms like the frequency, dosage, and duration. On the other side of the spectrum, it is equally important to build a control group of participants who do not consume any psychedelics and with closely matched demographics and health history to the intervention group.\n",
    "\n",
    "As mentioned, a large data set would ensure statistical power and enhance the reliability of the results. Ideally, this data would be collected through surveys, clinical assessments by professionals and medical history documentation over a long duration of time to evaluate possible long term effects. This data should be protected and stored securely to avoid tampering and to ensure the privacy of participants.\n",
    "\n",
    "We intend on using data from Psychedelic mushrooms in the USA: knowledge, patterns of use, and association with health outcomes from Dryad Digital Repository. This data set is ideal because of its relevance to our research question and hypothesis. It is a controlled study design increasing its validity and reliability. The lab used standardized measures and assessments to evaluate psychological data that can potentially be subjective or biased. The sample size was a reasonable size of 89 participants. The data was collected at various times like before and after psychedelic administration, allowing the close watch of observations. Finally, as this dataset is associated with a published research paper, it enhances the validity and credibility of the study."
   ]
  },
  {
   "cell_type": "markdown",
   "metadata": {},
   "source": [
    "# Ethics & Privacy"
   ]
  },
  {
   "cell_type": "markdown",
   "metadata": {},
   "source": [
    "Given the nature of the data we’re working with, several ethics and privacy considerations will need to be taken into account. This is an especially important part of our data science lifecycle given that the data at hand comes from real patients and ensuring their wellbeing is very important. We need to ensure that this question can be investigated in a way that does not compromise this.\n",
    "\n",
    "We’ll need to ensure that the data is properly anonymized and cannot be traced back to anyone involved in the studies we’re using. Any data that comes from real patients, or real people for that matter, contains sensitive information and a lack of oversight in the anonymization process can have serious implications. This obviously involves making sure that there are no unique patient identifiers in the dataset, but also involves that too much sensitive information isn’t included. Papers such as this one provide some discussion as to how datasets found in healthcare can be propoerly anonymized (https://www.liebertpub.com/doi/abs/10.1089/big.2021.0169). Although we’ll have to maintain patient privacy, it will still be important to ensure that there is transparency into the research methods used and the legitimacy of the results.\n",
    "\n",
    "Ensuring patient safety and well-being during the data collection process will also be extremely important. While using psychedelic mushrooms (PMs) to treat mental health conditions isn’t necessarily a new phenomenon, going back at least to the 1940s (https://healthcare.utah.edu/healthfeed/2023/03/mushrooms-depression-psilocybin-showing-promising-results#:~:text=The%20study%20and%20research%20of,disorders%2C%20and%20alcohol%20use%20disorders.), it’s still somewhat of a nascent field and it’s possible that they could have side effects that we’re still unaware of. Sometimes, certain drugs can have unexpected clinical results that may not be possible to predict, but to minimize the risk of this, we'll need to lean into theoretical studies done on psychadelic mushrooms, which could involve studying the chemical properties of these compounds among other things. While not every clinical outcome can be predicted, it's important to ensure that the patients are aware about everything that's going on and any potential risks that they're being supervised by a licensed physician who's aware of their medical history. These precautions can help to minimize some of the risks involved.\n",
    "\n",
    "In addition, we’ll need to make sure that the data we’re using is representative of the population as a whole and isn’t biased against any particular group. Unfortunately, it isn’t uncommon for certain groups to remain underrepresented in healthcare datasets such as patients who identify as Black, Indigenous, or POC, lower income patients, and patients with unique health challenges just to name a few, which can lead to them receiving inadequate care. This is especially common in research studies related to behavioral health https://www.samhsa.gov/blog/addressing-disparities-diversifying-behavioral-health-research). Studies such as these are difficult and expensive to conduct and it may not be possible to find a dataset that's completely representative of the world's population, it will be important to consider the demographics of the patients in our dataset throughout the entire process. We may also need to consider certain factors that specific demographics in our dataset may have to deal with, which could potentially affect the results and lead to more bias. Since we're analyzing depression, which may be stigmatized in any communities, we'll need to consider various cultural factors at play and how they may impact our results. We'll also need to consider the fact that certain groups also face barriers when accessing healthcare, which could also lead to biased results. It's also possible that a patient's background could affect how they choose to respond to researcher's questions or even how researcher's interpret their results. All in all, while it's almost impossible to find a dataset that's perfectly representative of the general population and doesn't contain any bias, by carefully considering our results and their relations to factors that could potentially lead to bias (a patient's demographics and health history and how these relate to any barriers they may face in our case), it is possible to conduct this analysis in a fair and ethical manner. \n",
    "\n",
    "We also found this paper, which discusses methods that use AI to minimize discrepancies in healthcare data: https://www.cell.com/patterns/pdf/S2666-3899(21)00202-6.pdf."
   ]
  },
  {
   "cell_type": "markdown",
   "metadata": {},
   "source": [
    "# Team Expectations "
   ]
  },
  {
   "cell_type": "markdown",
   "metadata": {},
   "source": [
    "* *Actively communicate regularly and effectively with group members in a timely manner.*\n",
    "* *Ensure all criticism is respectful and constructive.*\n",
    "* *Collaborate productively with other team members to ensure quality work completely within planned deadlines.*\n",
    "* *Attend team meetings and provide constructive feedback and engage in proactive problem solving to overcome obstacles.*\n",
    "* *Make a conscious effort to be adaptable and flexible with any unforeseen circumstances in order to reach the overall goal.*"
   ]
  },
  {
   "cell_type": "markdown",
   "metadata": {},
   "source": [
    "# Project Timeline Proposal"
   ]
  },
  {
   "cell_type": "markdown",
   "metadata": {},
   "source": [
    "| Meeting Date  | Meeting Time| Completed Before Meeting  | Discuss at Meeting |\n",
    "|---|---|---|---|\n",
    "| 7/08  |  10 PM | Go over class expectations and brainstorm project ideas | Lay out team expectations; finalizing project idea; background research; discuss project proposal |\n",
    "| 7/14  |  10 PM | Work on project proposal and all its components; find an ideal dataset | Discuss approaches to the coding portion of the project; discuss data limitations and how we can overcome them; finalize project proposal; discuss preliminary roles | \n",
    "| 7/21  |  10 PM | Import and wrangle data; conduct some initial EDA; come up with a few preliminary results | Review initial EDA and share any interesting findings; come up with plan to obtain meaningful results from analysis | \n",
    "| 7/28  | 10 PM  | Finalize wrangling and EDA; hopefully have some analysis done; draft whatever findings we have so far | Discuss our findings; compare each other's results; discuss/edit full project |\n",
    "| 8/04  | Before 11:59 PM  | NA | Turn in Final Project & Group Project Surveys |\n",
    "\n",
    "We're considering using some methods that may not be extensively covered in class, such as principal component analysis as well as other methods to find the most important features in our dataset.\n",
    "\n",
    "We also created this interactive spreadsheet to keep track of our progress: https://docs.google.com/spreadsheets/d/18PI47LAQsULzMIUmeWFnT-_2zDrC3kFhDKB3ei8xLyk/edit#gid=0."
   ]
  },
  {
   "cell_type": "code",
   "execution_count": null,
   "metadata": {},
   "outputs": [],
   "source": []
  }
 ],
 "metadata": {
  "kernelspec": {
   "display_name": "Python 3 (ipykernel)",
   "language": "python",
   "name": "python3"
  },
  "language_info": {
   "codemirror_mode": {
    "name": "ipython",
    "version": 3
   },
   "file_extension": ".py",
   "mimetype": "text/x-python",
   "name": "python",
   "nbconvert_exporter": "python",
   "pygments_lexer": "ipython3",
   "version": "3.9.5"
  }
 },
 "nbformat": 4,
 "nbformat_minor": 2
}
